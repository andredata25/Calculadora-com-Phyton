{
  "nbformat": 4,
  "nbformat_minor": 0,
  "metadata": {
    "colab": {
      "provenance": []
    },
    "kernelspec": {
      "name": "python3",
      "display_name": "Python 3"
    },
    "language_info": {
      "name": "python"
    }
  },
  "cells": [
    {
      "cell_type": "markdown",
      "source": [
        "## Programa Calculadora do André\n",
        "\n",
        "Programa desenvolvido para efetuar cálculos matemáticos com a entreda de dois números inseridos pelo usuário."
      ],
      "metadata": {
        "id": "lZTj2RLtA9-Q"
      }
    },
    {
      "cell_type": "code",
      "source": [
        "# Boas vindas ao usuário\n",
        "\n",
        "print(\"###########################################\\nBem-vindo ao programa Calculadora do André\\n###########################################\\n\")\n",
        "\n",
        "# Informações de como a calculadora funciona\n",
        "print(\"Esta é uma calculadora simples que irá mostrar o resultado de algumas operações matemáticas com dois números.\")\n",
        "print(\"As operações suportadas por essa calculadora são: adição (+), subtração (-), multiplicação (*) e divisão(/)\\n\")\n",
        "\n",
        "operacoes = [\"1 - Adição\", \"2 - Subtração\", \"3 - Multiplicação\", \"4 - Divisão\"]\n",
        "\n",
        "nome = input(\"Por favor, digite seu nome para que possamos interagir: \") # Um pedido de inserção do nome do usuário para interação\n",
        "\n",
        "# Nesta parte o usuário irá digitar os números\n",
        "num1 = float(input(f\"Vamos lá {nome}. Digite o primeiro número: \"))\n",
        "num2 = float(input(\"Agora, digite o segundo número: \"))\n",
        "\n",
        "# Será mostrado ao usuário as opções das operações matemáticas\n",
        "print(\"Agora digite o número correspondente a operação desejada:\")\n",
        "for operacao in operacoes:\n",
        "  print(operacao)\n",
        "escolha = int(input())\n",
        "\n",
        "# Caso o usuário insirá um número inválido, será mostrada uma mensagem e solicitado um novo número\n",
        "while escolha < 1 or escolha > 4:\n",
        "  print(f\"Você digitou o número {escolha}. Este número é inválido. Por favor, digite novamente.\")\n",
        "  escolha = int(input())\n",
        "\n",
        "# Com a inserção do número correto, a operação é executada\n",
        "if escolha == 1:\n",
        "  resultado = num1 + num2\n",
        "  print(\"Você escolheu adição. O resultado da operação é: \", resultado)\n",
        "\n",
        "elif escolha == 2:\n",
        "  resultado = num1 - num2\n",
        "  print(\"Você escolheu subtração. O resultado da operação é: \", resultado)\n",
        "\n",
        "elif escolha == 3:\n",
        "  resultado = num1 * num2\n",
        "  print(\"Você escolheu multiplicação. O resultado da operação é: \", resultado)\n",
        "\n",
        "else:\n",
        "  resultado = num1 / num2\n",
        "  print(\"Você escolheu divisão. O resultado da operação é: \", resultado)"
      ],
      "metadata": {
        "id": "DT8-prnwBVRO"
      },
      "execution_count": null,
      "outputs": []
    }
  ]
}